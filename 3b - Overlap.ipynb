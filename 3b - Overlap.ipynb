{
 "cells": [
  {
   "cell_type": "code",
   "execution_count": null,
   "id": "c9ff95b9-f0a8-4e49-82e1-1dd7fe99d070",
   "metadata": {},
   "outputs": [],
   "source": [
    "from dask.distributed import Client, progress\n",
    "import dask.array as da\n",
    "import numpy as np\n",
    "import scipy\n",
    "client = Client(processes=False)\n",
    "client"
   ]
  },
  {
   "cell_type": "markdown",
   "id": "5aceb477-a62a-49f0-936f-d13bd307cf51",
   "metadata": {},
   "source": [
    "Overlapping Operations\n",
    "======================\n",
    "\n",
    "Some operations depend on neigbourding values. For exemple derivatives, sliding sum, image filter.\n",
    "\n",
    "For that there is `overlap` and `map_overlap`.  \n",
    "It add a border to each chunks before mapping function on each chunks.  \n",
    "\n",
    "![](https://docs.dask.org/en/stable/_images/overlapping-neighbors.svg)\n",
    "\n",
    "It does so in all dimension, including diagonals:\n",
    "\n",
    "![](https://docs.dask.org/en/stable/_images/overlapping-blocks.svg)"
   ]
  },
  {
   "cell_type": "code",
   "execution_count": null,
   "id": "5f27a799-4a5a-487d-9292-3510873e6c0d",
   "metadata": {},
   "outputs": [],
   "source": [
    "x = da.from_array(np.arange(100).reshape((10, 10)), chunks=(5, 2))\n",
    "x"
   ]
  },
  {
   "cell_type": "code",
   "execution_count": null,
   "id": "2359c57a-0ec1-4e3a-a911-b06a251d8872",
   "metadata": {},
   "outputs": [],
   "source": [
    "x.compute()"
   ]
  },
  {
   "cell_type": "code",
   "execution_count": null,
   "id": "2feebcf4-44b8-4604-a043-fc5014af5a9a",
   "metadata": {},
   "outputs": [],
   "source": [
    "extented = da.overlap.overlap(x, depth=(1, 1), boundary=(\"reflect\", -100)) \n",
    "extented"
   ]
  },
  {
   "cell_type": "code",
   "execution_count": null,
   "id": "0c7cc662-94b9-4165-b92a-9450414d3d13",
   "metadata": {},
   "outputs": [],
   "source": [
    "extented.compute()[:, :10]"
   ]
  },
  {
   "cell_type": "markdown",
   "id": "61172f1f-9572-4458-a362-dd2960d5461d",
   "metadata": {},
   "source": [
    "Outer border can be:\n",
    "- \"periodic\"\n",
    "- \"reflect\"\n",
    "- Any constant\n",
    "\n",
    "Once extented, we can map a function on each blocks.  \n",
    "This is good for scipy array functions.\n"
   ]
  },
  {
   "cell_type": "code",
   "execution_count": null,
   "id": "0e7e0cc1-045b-4d97-a545-fcd90987a8f0",
   "metadata": {},
   "outputs": [],
   "source": [
    "def convolve2d(arr):\n",
    "    filter = np.array([[0, 1, 0],[1, -4, 1],[0, 1, 0]])\n",
    "    return scipy.signal.convolve2d(arr, filter, mode=\"same\")\n",
    "\n",
    "filtered = extented.map_blocks(convolve2d)\n",
    "filtered"
   ]
  },
  {
   "cell_type": "code",
   "execution_count": null,
   "id": "c2bedf5a-3123-4334-87b1-25d18f5187b7",
   "metadata": {},
   "outputs": [],
   "source": [
    "filtered.blocks[0, 1].compute()"
   ]
  },
  {
   "cell_type": "markdown",
   "id": "c02ca539-5ac4-4376-a243-8af39d956897",
   "metadata": {},
   "source": [
    "Often once the action on each block is done, we often want to remove the borders.  \n",
    "This can be done with `trim_overlap` or `trim_internal`."
   ]
  },
  {
   "cell_type": "code",
   "execution_count": null,
   "id": "0c2c6d0b-46d5-469c-888a-21fdda5ce259",
   "metadata": {},
   "outputs": [],
   "source": [
    "trimmed = da.overlap.trim_overlap(filtered, (1, 1))\n",
    "trimmed"
   ]
  },
  {
   "cell_type": "code",
   "execution_count": null,
   "id": "bb6dd9d0-a832-4548-a115-5efc3f434eb9",
   "metadata": {},
   "outputs": [],
   "source": [
    "trimmed.blocks[0, 1].compute()"
   ]
  },
  {
   "cell_type": "code",
   "execution_count": null,
   "id": "6dbc85a1-b47e-4dac-97fb-816eaad5a345",
   "metadata": {},
   "outputs": [],
   "source": [
    "trimmed.blocks[0, 0].compute()"
   ]
  },
  {
   "cell_type": "code",
   "execution_count": null,
   "id": "472ce471-64d0-4341-983e-4cdcd29069ed",
   "metadata": {},
   "outputs": [],
   "source": [
    "trimmed.compute()"
   ]
  },
  {
   "cell_type": "markdown",
   "id": "d6304c51-7d17-4e98-81da-65eedeb7c5b4",
   "metadata": {},
   "source": [
    "## Exercise: gradient\n",
    "\n",
    "We define a function on a 2d plane. Then compute the derivatives.\n",
    "\n",
    "$\\frac{df(x, y)}{dx} = \\frac{f(x + dx, y) - f(x - dx, y)}{2 dx}$\n"
   ]
  },
  {
   "cell_type": "code",
   "execution_count": null,
   "id": "e85574a5-74ae-4248-ba84-502b41f6a19f",
   "metadata": {},
   "outputs": [],
   "source": [
    "import matplotlib.pyplot as plt\n",
    "ts = np.linspace(-2, 2, 4001)\n",
    "xs, ys = np.meshgrid(ts, ts)\n",
    "\n",
    "func = (xs**2 - ys) **2 * np.exp(-(xs**2 + ys**2))\n",
    "\n",
    "dx = np.diff(func, axis=0) / 0.001\n",
    "dy = np.diff(func, axis=1) / 0.001\n",
    "\n",
    "plt.imshow(func)\n",
    "plt.show()\n",
    "plt.imshow(dx)\n",
    "plt.show()\n",
    "plt.imshow(dy)"
   ]
  },
  {
   "cell_type": "markdown",
   "id": "3bd8c286-4fb4-42ed-96be-0d72f0af9c11",
   "metadata": {},
   "source": [
    "### Solution\n",
    "<!---\n",
    "ts = da.linspace(-2, 2, 4001, chunks=(1000,))\n",
    "xs, ys = da.meshgrid(ts, ts)\n",
    "\n",
    "func = (xs**2 - ys) **2 * np.exp(-(xs**2 + ys**2))\n",
    "\n",
    "dx = da.diff(func, axis=0) / 0.001\n",
    "dy = da.diff(func, axis=0) / 0.001\n",
    "\n",
    "dx.visualize()\n",
    "plt.imshow(dx.compute())\n",
    "--->"
   ]
  },
  {
   "cell_type": "code",
   "execution_count": null,
   "id": "38aa3ac6-7de0-45e6-ac62-9efd1072289a",
   "metadata": {},
   "outputs": [],
   "source": []
  },
  {
   "cell_type": "code",
   "execution_count": null,
   "id": "f35d1104-e7ea-428a-beb3-fc373da5d7ca",
   "metadata": {},
   "outputs": [],
   "source": []
  }
 ],
 "metadata": {
  "kernelspec": {
   "display_name": "dask",
   "language": "python",
   "name": "dask"
  },
  "language_info": {
   "codemirror_mode": {
    "name": "ipython",
    "version": 3
   },
   "file_extension": ".py",
   "mimetype": "text/x-python",
   "name": "python",
   "nbconvert_exporter": "python",
   "pygments_lexer": "ipython3",
   "version": "3.12.2"
  }
 },
 "nbformat": 4,
 "nbformat_minor": 5
}
