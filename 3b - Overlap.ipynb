{
 "cells": [
  {
   "cell_type": "code",
   "execution_count": null,
   "id": "c9ff95b9-f0a8-4e49-82e1-1dd7fe99d070",
   "metadata": {},
   "outputs": [],
   "source": [
    "from dask.distributed import Client, progress\n",
    "import dask.array as da\n",
    "import numpy as np\n",
    "import scipy\n",
    "client = Client(processes=False)\n",
    "client"
   ]
  },
  {
   "cell_type": "markdown",
   "id": "5aceb477-a62a-49f0-936f-d13bd307cf51",
   "metadata": {},
   "source": [
    "Overlapping Operations\n",
    "======================\n",
    "\n",
    "Some operations depend on neigbourding values. For exemple derivatives, sliding sum, image filter.\n",
    "\n",
    "For that there is `overlap` and `map_overlap`.  \n",
    "It add a border to each chunks before mapping function on each chunks.  \n",
    "\n",
    "![](https://docs.dask.org/en/stable/_images/overlapping-neighbors.svg)\n",
    "\n",
    "It does so in all dimension, including diagonals:\n",
    "\n",
    "![](https://docs.dask.org/en/stable/_images/overlapping-blocks.svg)"
   ]
  },
  {
   "cell_type": "code",
   "execution_count": null,
   "id": "5f27a799-4a5a-487d-9292-3510873e6c0d",
   "metadata": {},
   "outputs": [],
   "source": [
    "x = da.from_array(np.arange(100).reshape((10, 10)), chunks=(5, 2))\n",
    "x"
   ]
  },
  {
   "cell_type": "code",
   "execution_count": null,
   "id": "2359c57a-0ec1-4e3a-a911-b06a251d8872",
   "metadata": {},
   "outputs": [],
   "source": [
    "x.compute()"
   ]
  },
  {
   "cell_type": "code",
   "execution_count": null,
   "id": "2feebcf4-44b8-4604-a043-fc5014af5a9a",
   "metadata": {},
   "outputs": [],
   "source": [
    "extented = da.overlap.overlap(x, depth=(1, 1), boundary=(\"reflect\", -100)) \n",
    "extented"
   ]
  },
  {
   "cell_type": "code",
   "execution_count": null,
   "id": "0c7cc662-94b9-4165-b92a-9450414d3d13",
   "metadata": {},
   "outputs": [],
   "source": [
    "extented.compute()[:, :10]"
   ]
  },
  {
   "cell_type": "markdown",
   "id": "61172f1f-9572-4458-a362-dd2960d5461d",
   "metadata": {},
   "source": [
    "Outer border can be:\n",
    "- \"periodic\"\n",
    "- \"reflect\"\n",
    "- Any constant\n",
    "\n",
    "Once extented, we can map a function on each blocks.  \n",
    "This is good for scipy array functions.\n"
   ]
  },
  {
   "cell_type": "code",
   "execution_count": null,
   "id": "0e7e0cc1-045b-4d97-a545-fcd90987a8f0",
   "metadata": {},
   "outputs": [],
   "source": [
    "def convolve2d(arr):\n",
    "    filter = np.array([[0, 1, 0],[1, -4, 1],[0, 1, 0]])\n",
    "    return scipy.signal.convolve2d(arr, filter, mode=\"same\")\n",
    "\n",
    "filtered = extented.map_blocks(convolve2d)\n",
    "filtered"
   ]
  },
  {
   "cell_type": "code",
   "execution_count": null,
   "id": "c2bedf5a-3123-4334-87b1-25d18f5187b7",
   "metadata": {},
   "outputs": [],
   "source": [
    "filtered.blocks[0, 0].compute()"
   ]
  },
  {
   "cell_type": "code",
   "execution_count": null,
   "id": "08a32b9a-fc75-437b-8091-9b544bf79bff",
   "metadata": {},
   "outputs": [],
   "source": [
    "filtered.blocks[0, 1].compute()"
   ]
  },
  {
   "cell_type": "markdown",
   "id": "c02ca539-5ac4-4376-a243-8af39d956897",
   "metadata": {},
   "source": [
    "Often once the action on each block is done, we often want to remove the borders.  \n",
    "This can be done with `trim_overlap` or `trim_internal`.\n",
    "- `trim_overlap`: only trim the overlap between blocks.\n",
    "- `trim_internal`: Trim overlap between blocks and boundary, (in 2 parameters)."
   ]
  },
  {
   "cell_type": "code",
   "execution_count": null,
   "id": "0c2c6d0b-46d5-469c-888a-21fdda5ce259",
   "metadata": {},
   "outputs": [],
   "source": [
    "trimmed = da.overlap.trim_overlap(filtered, (1, 1))\n",
    "trimmed"
   ]
  },
  {
   "cell_type": "code",
   "execution_count": null,
   "id": "37744145-3b39-48ea-a38f-8745f3b455ef",
   "metadata": {},
   "outputs": [],
   "source": [
    "trimmed.blocks[0, 0].compute()"
   ]
  },
  {
   "cell_type": "code",
   "execution_count": null,
   "id": "471fe69c-8e2c-4c40-91dc-3ed454bc483f",
   "metadata": {},
   "outputs": [],
   "source": [
    "trimmed2 = da.overlap.trim_internal(filtered, axes={0:1, 1:1}, boundary={0:1, 1:1})\n",
    "trimmed2"
   ]
  },
  {
   "cell_type": "code",
   "execution_count": null,
   "id": "bb6dd9d0-a832-4548-a115-5efc3f434eb9",
   "metadata": {},
   "outputs": [],
   "source": [
    "trimmed2.blocks[0, 0].compute()"
   ]
  },
  {
   "cell_type": "code",
   "execution_count": null,
   "id": "48f20547-1fed-45fc-81dc-7c0124794f52",
   "metadata": {},
   "outputs": [],
   "source": [
    "trimmed2.compute()"
   ]
  },
  {
   "cell_type": "markdown",
   "id": "b87ba108-065a-4744-ae49-640e5b1e2e68",
   "metadata": {},
   "source": [
    "### Utility function: `map_overlap`\n",
    "\n",
    "`map_overlap` joint the 2 steps in one: create the overlap, apply the function, trim the overlap back."
   ]
  },
  {
   "cell_type": "code",
   "execution_count": null,
   "id": "c2527468-8bd0-4409-b78b-dc00b25e13be",
   "metadata": {},
   "outputs": [],
   "source": [
    "out = da.overlap.map_overlap(convolve2d, x, depth=(1, 1), boundary=(\"reflect\", -100))\n",
    "out.compute()"
   ]
  },
  {
   "cell_type": "markdown",
   "id": "456e3380-91e9-4839-abb1-a3f462eced17",
   "metadata": {},
   "source": [
    "## Exercise: Sliding windows\n",
    "\n",
    "Let's apply scipy's sliding maximum function to dask arrays."
   ]
  },
  {
   "cell_type": "code",
   "execution_count": null,
   "id": "2dcc6f5c-00bd-4409-b1b8-2a752e252974",
   "metadata": {},
   "outputs": [],
   "source": [
    "# Import and example\n",
    "\n",
    "from scipy.ndimage import maximum_filter1d, minimum_filter1d\n",
    "from scipy.ndimage import maximum_filter, minimum_filter\n",
    "import matplotlib.pyplot as plt\n",
    "N = 10\n",
    "signal = np.random.rand(N)\n",
    "max_1d = maximum_filter1d(signal, 3)\n",
    "min_1d = minimum_filter1d(signal, 3)\n",
    "plt.plot(signal)\n",
    "plt.plot(max_1d)\n",
    "plt.plot(min_1d)"
   ]
  },
  {
   "cell_type": "code",
   "execution_count": null,
   "id": "f35d1104-e7ea-428a-beb3-fc373da5d7ca",
   "metadata": {},
   "outputs": [],
   "source": [
    "N = 100000\n",
    "signal = np.random.rand(N)\n",
    "max_1d = maximum_filter1d(signal, 5)\n",
    "min_1d = minimum_filter1d(signal, 5)"
   ]
  },
  {
   "cell_type": "code",
   "execution_count": null,
   "id": "80e3bcc8-343c-47a2-8e63-6842a64e3804",
   "metadata": {},
   "outputs": [],
   "source": [
    "N = 100\n",
    "noise = np.random.rand(N, N)\n",
    "max_2d = maximum_filter(noise, 5)\n",
    "min_2d = minimum_filter(noise, 5)"
   ]
  },
  {
   "cell_type": "markdown",
   "id": "180bbe67-7f04-4f5f-9740-d7b7d728296f",
   "metadata": {},
   "source": [
    "### Solution\n",
    "<!---\n",
    "N = 100000\n",
    "signal = da.random.random(N, chunks=(10000))\n",
    "extended = da.overlap.overlap(signal, (2,), (\"reflect\",))\n",
    "max_1d = da.overlap.map_blocks(lambda arr: maximum_filter1d(arr, 5), extended)\n",
    "min_1d = da.overlap.map_blocks(lambda arr: minimum_filter1d(arr, 5), extended)\n",
    "max_1d = da.overlap.trim_internal(max_1d, {0: 2,}, {0: 2,})\n",
    "min_1d = da.overlap.trim_internal(min_1d, {0: 2,}, {0: 2,})\n",
    "\n",
    "assert np.allclose(max_1d.compute(), maximum_filter1d(signal.compute(), 5))\n",
    "\n",
    "N = 100\n",
    "noise = da.random.random((N, N), chunks=(10000))\n",
    "extended = da.overlap.overlap(noise, (2, 2), (\"reflect\", \"reflect\"))\n",
    "max_2d = da.overlap.map_blocks(lambda arr: maximum_filter(arr, 5), extended)\n",
    "min_2d = da.overlap.map_blocks(lambda arr: minimum_filter(arr, 5), extended)\n",
    "max_2d = da.overlap.trim_internal(max_2d, {0: 2, 1: 2,}, {0: 2, 1: 2,})\n",
    "min_2d = da.overlap.trim_internal(min_2d, {0: 2, 1: 2,}, {0: 2, 1: 2,})\n",
    "\n",
    "assert np.allclose(max_2d.compute(), maximum_filter(noise.compute(), 5))\n",
    "--->"
   ]
  }
 ],
 "metadata": {
  "kernelspec": {
   "display_name": "dask",
   "language": "python",
   "name": "dask"
  },
  "language_info": {
   "codemirror_mode": {
    "name": "ipython",
    "version": 3
   },
   "file_extension": ".py",
   "mimetype": "text/x-python",
   "name": "python",
   "nbconvert_exporter": "python",
   "pygments_lexer": "ipython3",
   "version": "3.12.2"
  }
 },
 "nbformat": 4,
 "nbformat_minor": 5
}
