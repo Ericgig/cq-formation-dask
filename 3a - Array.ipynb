{
 "cells": [
  {
   "cell_type": "code",
   "execution_count": null,
   "id": "8039b804-3c6b-4308-ba06-b820ca21350d",
   "metadata": {},
   "outputs": [],
   "source": [
    "from dask.distributed import Client, progress\n",
    "client = Client(processes=False)\n",
    "client"
   ]
  },
  {
   "cell_type": "markdown",
   "id": "e6355009-353d-4a73-a6e2-2c83198485d1",
   "metadata": {},
   "source": [
    "Dask Arrays\n",
    "===========\n",
    "Dask arrays api allows to coordinate smaller _common_ arrays to represent a larger one.  \n",
    "The chunks are distributed on each worker, splitting the work and memory usage.\n",
    "\n",
    "![Dask array logo](https://examples.dask.org/_images/dask-array-black-text.svg)\n",
    "\n",
    "Chunks can be composed of many ndarrays-like type (jax.numpy, sparse, pytorch tensor, Xarray, ...)  \n",
    "\n",
    "The dask array can be used almost identically as a numpy array.\n",
    "\n",
    "\n",
    "\n"
   ]
  },
  {
   "cell_type": "code",
   "execution_count": null,
   "id": "e18dff05-529e-4695-ba39-d4114a68a866",
   "metadata": {},
   "outputs": [],
   "source": [
    "import dask.array as da\n",
    "x = da.random.random((400, 400), chunks=(200, 200))\n",
    "x"
   ]
  },
  {
   "cell_type": "code",
   "execution_count": null,
   "id": "188b51b3-ceea-436a-9c54-e22ae237fd3e",
   "metadata": {},
   "outputs": [],
   "source": [
    "y = x[::2, :100]\n",
    "y"
   ]
  },
  {
   "cell_type": "code",
   "execution_count": null,
   "id": "0c83ae91-386e-4e93-9fe0-f8467c0f1bc0",
   "metadata": {},
   "outputs": [],
   "source": [
    "z = y.sum(axis=0)\n",
    "z"
   ]
  },
  {
   "cell_type": "code",
   "execution_count": null,
   "id": "f1621e4d-b9f9-4685-ba18-07d41eeaad04",
   "metadata": {},
   "outputs": [],
   "source": [
    "z.compute()"
   ]
  },
  {
   "cell_type": "code",
   "execution_count": null,
   "id": "a5fbff45-48fd-42f8-9611-d301c969cff8",
   "metadata": {},
   "outputs": [],
   "source": [
    "da.std(x)"
   ]
  },
  {
   "cell_type": "code",
   "execution_count": null,
   "id": "2ce58b07-d6d4-4d93-b2b8-1972e7f34a29",
   "metadata": {},
   "outputs": [],
   "source": [
    "da.std(x).compute()"
   ]
  },
  {
   "cell_type": "code",
   "execution_count": null,
   "id": "719a5b09-ce6c-490d-9dc3-6a092e297bd4",
   "metadata": {
    "scrolled": true
   },
   "outputs": [],
   "source": [
    "da.std(x).visualize()"
   ]
  },
  {
   "cell_type": "markdown",
   "id": "40bc99a4-b74f-4301-a0b4-f73471f38c01",
   "metadata": {},
   "source": [
    "Supported operations\n",
    "--------------------\n",
    "\n",
    "- Arithmetic and scalar mathematics: +, *, exp, log, ...\n",
    "- Reductions along axes: sum(), mean(), std(), sum(axis=0), ...\n",
    "- Tensor contractions / dot products / matrix multiply / tensordot / einsum...\n",
    "- Axis reordering / transpose: transpose\n",
    "- Slicing: x[:100, 500:100:-2]\n",
    "- Some linear algebra\n",
    "\n",
    "[List of supported operations](https://docs.dask.org/en/stable/array-numpy-compatibility.html)"
   ]
  },
  {
   "cell_type": "code",
   "execution_count": null,
   "id": "abe29d05-a8dd-4b9e-a2f7-0df358a2032c",
   "metadata": {},
   "outputs": [],
   "source": [
    "M = da.random.random((6000, 6000), chunks=(1000, 1000))\n",
    "y = da.random.random((6000, 1), chunks=(1000, 1))\n",
    "My = da.expm1(M) @ y\n",
    "My"
   ]
  },
  {
   "cell_type": "code",
   "execution_count": null,
   "id": "c8637403-e74b-4a18-818c-622b444c39b0",
   "metadata": {},
   "outputs": [],
   "source": [
    "My.visualize()"
   ]
  },
  {
   "cell_type": "code",
   "execution_count": null,
   "id": "8b8a99bf-b68d-418d-b831-0efcace6fc3d",
   "metadata": {},
   "outputs": [],
   "source": [
    "My.compute()"
   ]
  },
  {
   "cell_type": "code",
   "execution_count": null,
   "id": "3acb2cf2-ed05-4eb9-acf4-8dcd601ae9f5",
   "metadata": {},
   "outputs": [],
   "source": [
    "da.einsum(\"ij,jk->ik\", M, y).visualize()"
   ]
  },
  {
   "cell_type": "markdown",
   "id": "4a43341b-2c34-40d7-8836-7dd924f5500d",
   "metadata": {},
   "source": [
    "Creating, reading and saving dask arrays\n",
    "----------------------------------------\n",
    "\n",
    "We can create dask arrays from normal arrays."
   ]
  },
  {
   "cell_type": "code",
   "execution_count": null,
   "id": "2ec6ea47-ae74-4e0a-b711-3e3441b9c55c",
   "metadata": {},
   "outputs": [],
   "source": [
    "import numpy as np\n",
    "da.from_array(np.ones((1000, 1000)), chunks=(100, 100))"
   ]
  },
  {
   "cell_type": "markdown",
   "id": "8541cab2-eba9-4b32-b8c7-7d6990c8aa19",
   "metadata": {},
   "source": [
    "`from_array` can create array from many array like packages."
   ]
  },
  {
   "cell_type": "code",
   "execution_count": null,
   "id": "dd199692-f9ba-4a7a-93b2-eda4c930fcdf",
   "metadata": {},
   "outputs": [],
   "source": [
    "import sparse\n",
    "N = 1000\n",
    "sp = sparse.COO(\n",
    "    (np.arange(N-1), np.arange(1, N)), np.arange(-N//2, N//2-1), \n",
    "    shape=(N, N)\n",
    ")\n",
    "sp"
   ]
  },
  {
   "cell_type": "code",
   "execution_count": null,
   "id": "3a1de81d-cae5-4897-afa9-d5efa0b434bd",
   "metadata": {},
   "outputs": [],
   "source": [
    "da.from_array(sp, chunks=(100, 100))"
   ]
  },
  {
   "cell_type": "markdown",
   "id": "20db6746-8b1b-40d0-93c1-e4c68e6f5539",
   "metadata": {},
   "source": [
    "This is easy, but at creation, the full array must be in memory on the head worker.\n",
    "\n",
    "As easy but more efficient: using dask functions!\n",
    "- ones\n",
    "- zeros\n",
    "- arange\n",
    "- random\n",
    "- linspace\n",
    "- ..."
   ]
  },
  {
   "cell_type": "code",
   "execution_count": null,
   "id": "91e14fa8-3524-40ef-95f7-6075c7b5dd6b",
   "metadata": {},
   "outputs": [],
   "source": [
    "da.ones((1000, 1000), chunks=(100, 100))"
   ]
  },
  {
   "cell_type": "markdown",
   "id": "71427263-1779-449e-ad84-626dd1f9e500",
   "metadata": {},
   "source": [
    "This is more efficient, but quite limited.\n",
    "\n",
    "A method to be both efficient and versatile is to use `delayed`:"
   ]
  },
  {
   "cell_type": "code",
   "execution_count": null,
   "id": "32d8df5b-7d44-46f1-ba26-43d73757e3dc",
   "metadata": {},
   "outputs": [],
   "source": [
    "from dask import delayed\n",
    "N = 100\n",
    "@delayed\n",
    "def make_block(N, row, col):\n",
    "    return np.ones((N, N)) * np.exp(-(row - col)**2)\n",
    "\n",
    "col = []\n",
    "for i in range(10):\n",
    "    row = []\n",
    "    for j in range(10):\n",
    "        row.append(\n",
    "            da.from_delayed(\n",
    "                make_block(N, i, j),\n",
    "                shape=(N, N),\n",
    "                dtype=np.float64,\n",
    "            )\n",
    "        )\n",
    "    col.append(da.concatenate(row, axis=0))\n",
    "mat = da.concatenate(col, axis=1)\n",
    "mat"
   ]
  },
  {
   "cell_type": "code",
   "execution_count": null,
   "id": "918730fa-8e90-47fe-a49a-62b2582ed6c3",
   "metadata": {},
   "outputs": [],
   "source": [
    "mat.visualize()"
   ]
  },
  {
   "cell_type": "markdown",
   "id": "e25bcbf6-a0bb-4489-8df8-f2cb503cbd1c",
   "metadata": {},
   "source": [
    "There are also methods to save / load dask array in chunks.  \n",
    "`dask` has functions to support numpy format (.npy), hdf5 and object storage (zarr):\n",
    "- `from_npy_stack`, `to_npy_stack`\n",
    "- `from_zarr`, `to_zarr`\n",
    "- `from_tiledb`, `to_tiledb`\n",
    "- `to_hdf5`"
   ]
  },
  {
   "cell_type": "code",
   "execution_count": null,
   "id": "1ea74cfa-60f9-4d28-87f6-6190a71e318d",
   "metadata": {},
   "outputs": [],
   "source": [
    "da.to_npy_stack(\"save_rnd\", da.random.random((3000, 3000), chunks=(1000, 1000)), axis=0)\n",
    "random_array = da.from_npy_stack(\"save_rnd\")\n",
    "random_array"
   ]
  },
  {
   "cell_type": "markdown",
   "id": "ac303bde-d92c-4bb7-833a-5cd1d47e9dfe",
   "metadata": {},
   "source": [
    "Exercise: Numpy buzy work\n",
    "-------------------------\n",
    "Here is some numpy workload, let's rewrite it with dask."
   ]
  },
  {
   "cell_type": "code",
   "execution_count": null,
   "id": "da28ce02-32d5-456c-9846-d20f34b9264e",
   "metadata": {},
   "outputs": [],
   "source": [
    "N = 1000\n",
    "mat1 = np.eye(N)\n",
    "mat2 = np.linspace(0, 777, N) % 1\n",
    "mat2 = np.multiply.outer(mat2, mat2)\n",
    "mat1[mat2 > 0.5] = -0.1\n",
    "mat2 = np.tan(mat2)\n",
    "mat3 = mat1 * mat2\n",
    "print(np.max(mat3))"
   ]
  },
  {
   "cell_type": "markdown",
   "id": "1df6817f-4b6b-4a59-abf7-35a83e636808",
   "metadata": {},
   "source": [
    "### Solution\n",
    "<!---\n",
    "N = 1000\n",
    "mat1 = da.eye(N)\n",
    "mat2 = da.linspace(0, 777, N) % 1\n",
    "mat2 = da.multiply.outer(mat2, mat2)\n",
    "mat1[mat2 > 0.5] = -0.1\n",
    "mat2 = da.tan(mat2)\n",
    "mat3 = mat1 * mat2\n",
    "print(da.max(mat3).compute())\n",
    "--->"
   ]
  },
  {
   "cell_type": "markdown",
   "id": "57eb38b1-66a7-430f-a154-84957042115c",
   "metadata": {},
   "source": [
    "## Exercise: ODE\n",
    "\n",
    "Let's use dask to integrate a differential equation: $dv / dt = f(v)$.\n",
    "\n",
    "We have a working numpy version which work well for small ``N``.  \n",
    "We want to use dask to solve a similar but larger system."
   ]
  },
  {
   "cell_type": "code",
   "execution_count": null,
   "id": "d6da1e74-e0d0-46e4-8e81-2ab174e66aad",
   "metadata": {},
   "outputs": [],
   "source": [
    "N = 10000\n",
    "\n",
    "def norm(v):\n",
    "    \"\"\"\n",
    "    Norm of the vector\n",
    "    \"\"\"\n",
    "    return (v * v.conj()).sum()**0.5\n",
    "\n",
    "\n",
    "H = np.random.rand(N, N) + np.random.rand(N, N) *1j\n",
    "H = 1j * (H + H.transpose().conj()) / 100\n",
    "\n",
    "\n",
    "def f(v):\n",
    "    \"\"\"\n",
    "    Derivative function\n",
    "    \"\"\"\n",
    "    return H @ v\n",
    "\n",
    "\n",
    "def rk4(initial, f, dt):\n",
    "    \"\"\"\n",
    "    Simple fixed step lenght runke-kutta integration.\n",
    "    \"\"\"\n",
    "    d0 = f(v)\n",
    "    d1 = f(v + d0 * 0.5 * dt)\n",
    "    d2 = f(v + d1 * 0.5 * dt)\n",
    "    d3 = f(v + d2 * dt)\n",
    "    return v + (d0 / 6 + d1 / 3 + d2 / 3 + d3 / 6) * dt\n",
    "\n",
    "\n",
    "def integrate(v, f, dt, N_step):\n",
    "    \"\"\"\n",
    "    Do N_step of runge kutta integration.\n",
    "    \"\"\"\n",
    "    for _ in range(N_step):\n",
    "        v = rk4(v, f, dt)\n",
    "    return v\n",
    "\n",
    "\n",
    "v = np.random.rand(N, 1)\n",
    "v = v / norm(v)\n",
    "\n",
    "%time v = integrate(v, f, 0.001, 100)\n",
    "\n",
    "#Sanity check\n",
    "print(norm(v))"
   ]
  },
  {
   "cell_type": "markdown",
   "id": "110ac7cd-2569-4063-977b-30fd72fb2c98",
   "metadata": {},
   "source": [
    "### Solution\n",
    "<!---\n",
    "N = 10000\n",
    "\n",
    "def norm(v):\n",
    "    \"\"\"\n",
    "    Norm of the vector\n",
    "    \"\"\"\n",
    "    return (v * v.conj()).sum()**0.5\n",
    "\n",
    "\n",
    "H = (\n",
    "    da.random.random((N, N), chunks=(N//2, N//2))\n",
    "    + 1j * da.random.random((N, N), chunks=(N//2, N//2))\n",
    ")\n",
    "H = 1j * (H + H.transpose().conj()) / 100\n",
    "\n",
    "\n",
    "def f(v):\n",
    "    \"\"\"\n",
    "    Derivative function\n",
    "    \"\"\"\n",
    "    return H @ v\n",
    "\n",
    "\n",
    "def rk4(initial, f, dt):\n",
    "    \"\"\"\n",
    "    Simple fixed step lenght runke-kutta integration.\n",
    "    \"\"\"\n",
    "    d0 = f(v)\n",
    "    d1 = f(v + d0 * 0.5 * dt)\n",
    "    d2 = f(v + d1 * 0.5 * dt)\n",
    "    d3 = f(v + d2 * dt)\n",
    "    return v + (d0 / 6 + d1 / 3 + d2 / 3 + d3 / 6) * dt\n",
    "\n",
    "\n",
    "def integrate(v, f, dt, N_step):\n",
    "    \"\"\"\n",
    "    Do N_step of runge kutta integration.\n",
    "    \"\"\"\n",
    "    for _ in range(N_step):\n",
    "        v = rk4(v, f, dt)\n",
    "    return v\n",
    "\n",
    "\n",
    "v = da.random.random((N, 1), chunks=(N//2, 1))\n",
    "v = v / norm(v)\n",
    "\n",
    "%time v = integrate(v, f, 0.001, 100)\n",
    "\n",
    "#Sanity check\n",
    "%time norm(v).compute()\n",
    "\n",
    "--->"
   ]
  },
  {
   "cell_type": "code",
   "execution_count": null,
   "id": "bbbdd53d-741d-4514-8a3f-2866c52c9f7f",
   "metadata": {},
   "outputs": [],
   "source": []
  }
 ],
 "metadata": {
  "kernelspec": {
   "display_name": "Python 3 (ipykernel)",
   "language": "python",
   "name": "python3"
  },
  "language_info": {
   "codemirror_mode": {
    "name": "ipython",
    "version": 3
   },
   "file_extension": ".py",
   "mimetype": "text/x-python",
   "name": "python",
   "nbconvert_exporter": "python",
   "pygments_lexer": "ipython3",
   "version": "3.12.2"
  }
 },
 "nbformat": 4,
 "nbformat_minor": 5
}
