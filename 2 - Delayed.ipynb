{
 "cells": [
  {
   "cell_type": "markdown",
   "id": "cc384542-641a-497d-9ee0-e4b409d82c24",
   "metadata": {},
   "source": [
    "Delayed computation\n",
    "===================\n",
    "Dask allows to split a workload (python function calls) to multiple workers using `Futures`.\n",
    "However they are hard to use with tasks that are not totally independant. \n",
    "\n",
    "`dask.delayed` allows to submit tasks similarly to futures, but in a more pythonic way:   \n",
    "Decorating function with `delayed`, they then can be used normally.     \n",
    " It's output can be used for other delayed input before being computed.  \n",
    "\n",
    "`delayed` can distribute many normal python workflow if written in functional style.\n"
   ]
  },
  {
   "cell_type": "code",
   "execution_count": null,
   "id": "7f4f1535-dbc6-46b4-aa8d-5477522fc064",
   "metadata": {},
   "outputs": [],
   "source": [
    "from dask import delayed, compute\n",
    "from dask.distributed import Client\n",
    "import numpy as np\n",
    "\n",
    "client = Client(processes=True)\n",
    "client"
   ]
  },
  {
   "cell_type": "markdown",
   "id": "72cc10f9-375a-4363-9953-60b3d41a42f2",
   "metadata": {},
   "source": [
    "## Basic usage"
   ]
  },
  {
   "cell_type": "code",
   "execution_count": null,
   "id": "cb79dfe0-fdee-42bd-803b-6bfd239e6aad",
   "metadata": {},
   "outputs": [],
   "source": [
    "def func(a, b, c):\n",
    "    return (2 * a) + (b - c)\n",
    "\n",
    "\n",
    "a, b, c = 3, 4, 5\n",
    "func(a, b, c)"
   ]
  },
  {
   "cell_type": "code",
   "execution_count": null,
   "id": "524ea388-8bf8-4420-8fdd-20e014520647",
   "metadata": {},
   "outputs": [],
   "source": [
    "@delayed\n",
    "def lazy_func(a, b, c):\n",
    "    return (2 * a) + (b - c)\n",
    "\n",
    "func_delayed = lazy_func(a, b, c)\n",
    "func_delayed"
   ]
  },
  {
   "cell_type": "markdown",
   "id": "cb7cdc54-af8d-449a-af34-d34546e6defc",
   "metadata": {},
   "source": [
    "The output is a `Delayed` object.  Computation are not started yet.  \n",
    "Only when `compute` is called, it is passed to the workers."
   ]
  },
  {
   "cell_type": "code",
   "execution_count": null,
   "id": "0a1e3616-95dc-4706-a109-2d4139c5032c",
   "metadata": {},
   "outputs": [],
   "source": [
    "func_delayed.compute()"
   ]
  },
  {
   "cell_type": "markdown",
   "id": "e35c7035-dff0-4215-b4cf-ff266b9fbe34",
   "metadata": {},
   "source": [
    "Outputs can be used in other delayed functions without being computed."
   ]
  },
  {
   "cell_type": "code",
   "execution_count": null,
   "id": "30f405cc-8436-44cb-81ab-fba4005907ca",
   "metadata": {},
   "outputs": [],
   "source": [
    "from operator import add, sub, mul\n",
    "\n",
    "\n",
    "e = delayed(mul)(2, a)\n",
    "f = delayed(sub)(b, c)\n",
    "g = delayed(add)(e, f)\n",
    "g"
   ]
  },
  {
   "cell_type": "markdown",
   "id": "e0b977b7-9b59-4e3e-804e-4b47a1458cf9",
   "metadata": {},
   "source": [
    "Operator on delayed also work as expected:"
   ]
  },
  {
   "cell_type": "code",
   "execution_count": null,
   "id": "b4c464c2-f87c-4266-8cc7-bfce895fae21",
   "metadata": {},
   "outputs": [],
   "source": [
    "h = e + f\n",
    "h"
   ]
  },
  {
   "cell_type": "markdown",
   "id": "dc2f21ca-e501-4d2d-a072-90bc9173bd1d",
   "metadata": {},
   "source": [
    "When an `delayed` is build as such from multiple task, `dask` will remember all operations in a tree which can be shown with `visualize`:"
   ]
  },
  {
   "cell_type": "code",
   "execution_count": null,
   "id": "f9e1cf94-edb0-4560-98ee-9defd3c756ac",
   "metadata": {},
   "outputs": [],
   "source": [
    "g.visualize()"
   ]
  },
  {
   "cell_type": "code",
   "execution_count": null,
   "id": "07038cdc-8952-43ae-81b5-a501f2c29cd7",
   "metadata": {},
   "outputs": [],
   "source": [
    "g.compute(), h.compute()"
   ]
  },
  {
   "cell_type": "markdown",
   "id": "99add952-f561-40e9-ac66-fcc44036056c",
   "metadata": {},
   "source": [
    "Delayed Data\n",
    "------------\n",
    "When some data is reused as input in multiple delayed function, it can be set as delayed to help the scheduler.\n",
    "Delayed data class method can be used."
   ]
  },
  {
   "cell_type": "code",
   "execution_count": null,
   "id": "ed127a8b-e4be-4e9f-8f02-f1f64e120306",
   "metadata": {},
   "outputs": [],
   "source": [
    "# Load the string in the operation tree\n",
    "var1 = delayed(\"12345\")\n",
    "var1"
   ]
  },
  {
   "cell_type": "code",
   "execution_count": null,
   "id": "c86b127d-e1c6-4c45-b7c6-44061a432b45",
   "metadata": {},
   "outputs": [],
   "source": [
    "var2 = delayed( lambda N: [1]*N ) (5)\n",
    "var2"
   ]
  },
  {
   "cell_type": "code",
   "execution_count": null,
   "id": "95652ee1-579c-4336-85f1-4b3f97148495",
   "metadata": {},
   "outputs": [],
   "source": [
    "#Operation between function output and delayed data\n",
    "oper1 = var1[2] + var2[3] + var1[0]\n",
    "oper1"
   ]
  },
  {
   "cell_type": "code",
   "execution_count": null,
   "id": "44666a3f-437a-44d0-b34d-9800ab043ec2",
   "metadata": {},
   "outputs": [],
   "source": [
    "oper1.visualize(rankdir=\"LR\")"
   ]
  },
  {
   "cell_type": "code",
   "execution_count": null,
   "id": "69262bcb-e8ae-4cab-b119-6fb7f97749c7",
   "metadata": {},
   "outputs": [],
   "source": [
    "oper1.compute()"
   ]
  },
  {
   "cell_type": "markdown",
   "id": "d409f887-8841-47ff-bb14-cdb0f99a63c1",
   "metadata": {},
   "source": [
    "## Side effect\n",
    "**Side effect should not be used!**"
   ]
  },
  {
   "cell_type": "code",
   "execution_count": null,
   "id": "0068552d-34e9-40af-94a3-83e8cada57a7",
   "metadata": {},
   "outputs": [],
   "source": [
    "l = []\n",
    "tasks = [delayed(l.append)(i) for i in range(10)]\n",
    "compute(tasks) # Better  [task.compute() for task in tasks]\n",
    "l"
   ]
  },
  {
   "cell_type": "code",
   "execution_count": null,
   "id": "22545191-b522-4e22-b5f2-b104cabd9244",
   "metadata": {},
   "outputs": [],
   "source": [
    "l = delayed([])\n",
    "tasks = [l.append(i) for i in range(10)]\n",
    "compute(tasks)\n",
    "l.compute()"
   ]
  },
  {
   "cell_type": "markdown",
   "id": "50b1edcd-c947-45cb-9759-f16ffde26164",
   "metadata": {},
   "source": [
    "## Data creation\n",
    "\n",
    "With large data, we need to be careful that the data is not all in the client's memory.  \n",
    "Large dataset should be created / loaded in a delayed task."
   ]
  },
  {
   "cell_type": "code",
   "execution_count": null,
   "id": "dfa75572-b0d8-4486-bb27-0a79e86eb539",
   "metadata": {},
   "outputs": [],
   "source": [
    "@delayed\n",
    "def make_sample(N):\n",
    "    return np.expm1(5 * np.random.rand(N)**3)\n",
    "\n",
    "samples = [make_sample(1000) for _ in range(5)]\n",
    "\n",
    "stds = [delayed(np.std)(sample) for sample in samples]\n",
    "std_avg = delayed(np.mean)(stds)\n",
    "std_avg.visualize(rankdir=\"LR\")"
   ]
  },
  {
   "cell_type": "code",
   "execution_count": null,
   "id": "54b5ccb5-fbd0-45e9-b53a-66159295b996",
   "metadata": {},
   "outputs": [],
   "source": [
    "std_avg.compute()"
   ]
  },
  {
   "cell_type": "markdown",
   "id": "2b6b01ee-71dd-4f24-b480-a3574d02fac0",
   "metadata": {},
   "source": [
    "## Exercise: Putting it all together\n",
    "\n",
    "Use `dask.delayed` to compute the following workflow:\n",
    "\n",
    "- Open an image.\n",
    "- Take `N` random 100x100 pixels blocks.\n",
    "- Compute the differences between each pairs of blocks.\n",
    "- Make an histogram of these differences."
   ]
  },
  {
   "cell_type": "code",
   "execution_count": null,
   "id": "a670d03e-7d4d-4bfc-a233-1bc0598d3fb7",
   "metadata": {},
   "outputs": [],
   "source": [
    "from PIL import Image\n",
    "import itertools\n",
    "\n",
    "im = np.array(Image.open(\"images/exemple.png\"))[:, :, :3]\n",
    "\n",
    "\n",
    "def crop(im: np.ndarray, x: int, y: int):\n",
    "    \"\"\"\n",
    "    Cut a 100x100 block in the image starting at x, y (as fraction).\n",
    "    \"\"\"\n",
    "    Nx, Ny, _ = im.shape\n",
    "    x0 = int(x * (Nx-100))\n",
    "    y0 = int(y * (Ny-100))\n",
    "    return im[x0:x0+100, y0:y0+100]\n",
    "\n",
    "\n",
    "def diff(im1: np.ndarray, im2: np.ndarray):\n",
    "    \"\"\"\n",
    "    Compute the difference between images\n",
    "    \"\"\"\n",
    "    return np.abs(im1 - im2)\n",
    "\n",
    "\n",
    "def build_histogram(im, N):\n",
    "    \"\"\"\n",
    "    Create an histogram of the difference between\n",
    "    pairs of N random block in the image.\n",
    "    \"\"\"\n",
    "    xs = np.random.random(N)\n",
    "    ys = np.random.random(N)\n",
    "    \n",
    "    pieces = [\n",
    "        crop(im, x, y)\n",
    "        for x, y in zip(xs, ys)\n",
    "    ]\n",
    "    \n",
    "    diffs = [\n",
    "        diff(im1, im2)\n",
    "        for im1, im2 in itertools.combinations(pieces, 2)\n",
    "    ]\n",
    "    \n",
    "    means = [np.mean(diff) for diff in diffs]\n",
    "    \n",
    "    return np.histogram(means)\n",
    "\n",
    "build_histogram(im, 50)"
   ]
  },
  {
   "cell_type": "markdown",
   "id": "dc931773-b97f-4bfd-a0af-344c63068caa",
   "metadata": {},
   "source": [
    "## Solution\n",
    "\n",
    "<!---\n",
    "im = delayed(Image.open)(\"images/exemple.png\")\n",
    "im = delayed(lambda I: np.array(I)[:, :, :3])(im)\n",
    "\n",
    "@delayed\n",
    "def crop(im: np.ndarray, x: int, y: int):\n",
    "    \"\"\"\n",
    "    Cut a 100x100 block in the image starting at x, y (as fraction).\n",
    "    \"\"\"\n",
    "    Nx, Ny, _ = im.shape\n",
    "    x0 = int(x * (Nx-100))\n",
    "    y0 = int(y * (Ny-100))\n",
    "    return im[x0:x0+100, y0:y0+100]\n",
    "\n",
    "@delayed\n",
    "def diff(im1: np.ndarray, im2: np.ndarray):\n",
    "    \"\"\"\n",
    "    Compute the difference between images\n",
    "    \"\"\"\n",
    "    return np.abs(im1 - im2)\n",
    "\n",
    "# Do not delay a function that call other function delayed\n",
    "def build_histogram(im, N):\n",
    "    \"\"\"\n",
    "    Create an histogram of the difference between\n",
    "    pairs of N random block in the image.\n",
    "    \"\"\"\n",
    "    xs = np.random.random(N)\n",
    "    ys = np.random.random(N)\n",
    "    \n",
    "    pieces = [\n",
    "        crop(im, x, y)\n",
    "        for x, y in zip(xs, ys)\n",
    "    ]\n",
    "    \n",
    "    diffs = [\n",
    "        diff(im1, im2)\n",
    "        for im1, im2 in itertools.combinations(pieces, 2)\n",
    "    ]\n",
    "    \n",
    "    means = [delayed(np.mean)(diff) for diff in diffs]\n",
    "    \n",
    "    histogram = delayed(np.histogram)(means)\n",
    "    return histogram\n",
    "\n",
    "histogram = build_histogram(im, 4)\n",
    "histogram.visualize(rankdir=\"LR\")\n",
    "\n",
    "histogram = build_histogram(im, 50)\n",
    "%time histogram.compute()\n",
    "--->"
   ]
  },
  {
   "cell_type": "markdown",
   "id": "691d596f-d03d-4b1c-aabe-e363b2c647eb",
   "metadata": {},
   "source": [
    "Exercise: Block randomize an image\n",
    "==================================\n",
    "\n",
    "1. Open an image.\n",
    "2. Split it in blocks.\n",
    "3. Applyt a filter each blocks.\n",
    "4. Randomize the positions of each blocks.\n",
    "5. Save it to a file.\n"
   ]
  },
  {
   "cell_type": "code",
   "execution_count": null,
   "id": "856c7f44-20fb-48a8-bd87-92df4f4d18ba",
   "metadata": {},
   "outputs": [],
   "source": [
    "from PIL import ImageFilter\n",
    "from glob import glob"
   ]
  },
  {
   "cell_type": "code",
   "execution_count": null,
   "id": "6a57a77e-db85-4760-8fd6-a650ef693f54",
   "metadata": {},
   "outputs": [],
   "source": [
    "files = glob(\"images/*.png\")\n",
    "block_size = 200\n",
    "\n",
    "for file in files:\n",
    "    # Image.open does not load the full image at once, but only when needed.\n",
    "    image = Image.open(file)\n",
    "    \n",
    "    # Compute number of block and block size\n",
    "    num_blocks = (image.size[0] // block_size, image.size[1] // block_size)\n",
    "    out_size = (num_blocks[0] * block_size, num_blocks[1] * block_size)\n",
    "    \n",
    "    # Cut borders so the image is a multiple of block_size pixels\n",
    "    left_border = (image.size[0] - out_size[0]) // 2\n",
    "    right_border = out_size[0] + left_border\n",
    "    up_border = (image.size[1] - out_size[1]) // 2\n",
    "    down_border = out_size[1] + up_border\n",
    "    image = image.crop((left_border, up_border, right_border, down_border))\n",
    "    \n",
    "    # Create the output image\n",
    "    new = Image.new(\"RGBA\", out_size)\n",
    "\n",
    "    # Create output shuffle order\n",
    "    shuffled_order = np.arange(num_blocks[0] * num_blocks[1])\n",
    "    np.random.shuffle(shuffled_order)\n",
    "\n",
    "    # Paste each block in the new image\n",
    "    for old_idx, new_idx in enumerate(shuffled_order):\n",
    "        x, y = np.unravel_index(old_idx, num_blocks)\n",
    "        # Get the block\n",
    "        block = image.crop(\n",
    "            (x * block_size, y * block_size, (x+1)*block_size, (y+1)*block_size)\n",
    "        )\n",
    "        # Filter it\n",
    "        block = block.filter(ImageFilter.SHARPEN)\n",
    "        x, y = np.unravel_index(new_idx, num_blocks)\n",
    "        # Insert it\n",
    "        new.paste(block, (x * block_size, y * block_size))\n",
    "    # Save the file\n",
    "    new.save(f\"schuffled_{file.split('.')[0][7:]}.png\")"
   ]
  },
  {
   "cell_type": "markdown",
   "id": "d6d97a58-074c-40b0-ac30-404c026bdd48",
   "metadata": {},
   "source": [
    "Solution\n",
    "--------\n",
    "<!-- \n",
    "files = glob(\"images/*.png\")\n",
    "block_size = 200\n",
    "tasks = []\n",
    "\n",
    "for file in files:\n",
    "    image = delayed(Image.open)(file)\n",
    "    size = Image.open(file).size\n",
    "    \n",
    "    # Compute number of block and block size\n",
    "    num_blocks = (size[0] // block_size, size[1] // block_size)\n",
    "    out_size = (num_blocks[0] * block_size, num_blocks[1] * block_size)\n",
    "    \n",
    "    # Cut borders so the image is a multiple of block_size pixels\n",
    "    left_border = (image.size[0] - out_size[0]) // 2\n",
    "    right_border = out_size[0] + left_border\n",
    "    up_border = (image.size[1] - out_size[1]) // 2\n",
    "    down_border = out_size[1] + up_border\n",
    "    image = image.crop((left_border, up_border, right_border, down_border))\n",
    "    image.visualize()\n",
    "    \n",
    "    # Create the output image\n",
    "    new = delayed(Image.new)(\"RGBA\", out_size)\n",
    "\n",
    "    # Create output shuffle order\n",
    "    shuffled_order = np.arange(num_blocks[0] * num_blocks[1])\n",
    "    np.random.shuffle(shuffled_order)\n",
    "\n",
    "    @delayed\n",
    "    def insert(image, block, x, y, block_size):\n",
    "        image.paste(block, (x * block_size, y * block_size))\n",
    "        return image\n",
    "    \n",
    "    # Paste each block in the new image\n",
    "    for old_idx, new_idx in enumerate(shuffled_order):\n",
    "        x, y = np.unravel_index(old_idx, num_blocks)\n",
    "        # Get the block\n",
    "        block = delayed(image.crop)(\n",
    "            (x * block_size, y * block_size, (x+1)*block_size, (y+1)*block_size)\n",
    "        )\n",
    "        # Filter it\n",
    "        block = block.filter(ImageFilter.SHARPEN)\n",
    "        x, y = np.unravel_index(new_idx, num_blocks)\n",
    "        # Insert it\n",
    "        new = insert(new, block, x, y, block_size)\n",
    "\n",
    "    # Save the file\n",
    "    tasks.append(delayed(new.save)(f\"schuffled_{file.split('.')[0].split('/')[1]}.png\"))\n",
    "\n",
    "compute(tasks)\n",
    "-->"
   ]
  },
  {
   "cell_type": "code",
   "execution_count": null,
   "id": "39556228-9ea8-47c0-8925-f5607bbd866a",
   "metadata": {},
   "outputs": [],
   "source": []
  }
 ],
 "metadata": {
  "kernelspec": {
   "display_name": "Python 3 (ipykernel)",
   "language": "python",
   "name": "python3"
  },
  "language_info": {
   "codemirror_mode": {
    "name": "ipython",
    "version": 3
   },
   "file_extension": ".py",
   "mimetype": "text/x-python",
   "name": "python",
   "nbconvert_exporter": "python",
   "pygments_lexer": "ipython3",
   "version": "3.12.2"
  }
 },
 "nbformat": 4,
 "nbformat_minor": 5
}
